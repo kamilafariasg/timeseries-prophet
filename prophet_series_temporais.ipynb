{
  "nbformat": 4,
  "nbformat_minor": 0,
  "metadata": {
    "colab": {
      "name": "prophet-series_temporais.ipynb",
      "provenance": [],
      "toc_visible": true,
      "authorship_tag": "ABX9TyNyr9KFWTPygolv6fvofuna",
      "include_colab_link": true
    },
    "kernelspec": {
      "name": "python3",
      "display_name": "Python 3"
    },
    "language_info": {
      "name": "python"
    }
  },
  "cells": [
    {
      "cell_type": "markdown",
      "metadata": {
        "id": "view-in-github",
        "colab_type": "text"
      },
      "source": [
        "<a href=\"https://colab.research.google.com/github/kamilafariasg/timeseries-prophet/blob/main/prophet_series_temporais.ipynb\" target=\"_parent\"><img src=\"https://colab.research.google.com/assets/colab-badge.svg\" alt=\"Open In Colab\"/></a>"
      ]
    },
    {
      "cell_type": "markdown",
      "metadata": {
        "id": "3ABdyNs_fNIX"
      },
      "source": [
        "# **Aplicando o *Prophet* na Base de Dados Champagne.**"
      ]
    },
    {
      "cell_type": "markdown",
      "metadata": {
        "id": "7wJ_dbASSO0u"
      },
      "source": [
        "### **Montando conexão com o Drive**"
      ]
    },
    {
      "cell_type": "code",
      "metadata": {
        "colab": {
          "base_uri": "https://localhost:8080/"
        },
        "id": "t7u9AnZ-UW_m",
        "outputId": "946481ea-fc95-4391-e56f-76ab0655c114"
      },
      "source": [
        "from google.colab import drive\n",
        "drive.mount('/content/drive')"
      ],
      "execution_count": 1,
      "outputs": [
        {
          "output_type": "stream",
          "text": [
            "Mounted at /content/drive\n"
          ],
          "name": "stdout"
        }
      ]
    },
    {
      "cell_type": "markdown",
      "metadata": {
        "id": "KoIFRLJ0SbPl"
      },
      "source": [
        "### **Importando Bibliotecas**"
      ]
    },
    {
      "cell_type": "code",
      "metadata": {
        "id": "8hlyFIowRqlx"
      },
      "source": [
        "import pandas as pd\n",
        "import numpy as np\n",
        "import seaborn as sns\n",
        "import matplotlib.pyplot as plt\n",
        "from fbprophet import Prophet\n",
        "from statsmodels.tools.eval_measures import rmse\n",
        "from sklearn.metrics import mean_absolute_error\n",
        "from math import sqrt\n",
        "\n",
        "%matplotlib inline \n",
        "#usar esse comando para não precisar dar plt.show em cada gráfico"
      ],
      "execution_count": 54,
      "outputs": []
    },
    {
      "cell_type": "markdown",
      "metadata": {
        "id": "n4UiHxWiShrY"
      },
      "source": [
        "### **Lendo Base de Dados**"
      ]
    },
    {
      "cell_type": "code",
      "metadata": {
        "colab": {
          "base_uri": "https://localhost:8080/"
        },
        "id": "U5tXdfLeRIjF",
        "outputId": "91913429-038d-4665-f45d-c3220362353b"
      },
      "source": [
        "dataset = pd.read_csv(\"/content/drive/My Drive/dataset/champagne.csv\")\n",
        "dataset.info()"
      ],
      "execution_count": 4,
      "outputs": [
        {
          "output_type": "stream",
          "text": [
            "<class 'pandas.core.frame.DataFrame'>\n",
            "RangeIndex: 105 entries, 0 to 104\n",
            "Data columns (total 2 columns):\n",
            " #   Column  Non-Null Count  Dtype \n",
            "---  ------  --------------  ----- \n",
            " 0   Month   105 non-null    object\n",
            " 1   Sales   105 non-null    int64 \n",
            "dtypes: int64(1), object(1)\n",
            "memory usage: 1.8+ KB\n"
          ],
          "name": "stdout"
        }
      ]
    },
    {
      "cell_type": "markdown",
      "metadata": {
        "id": "XDxFdJ7tSqIX"
      },
      "source": [
        "### **Análise sobre os Dados**"
      ]
    },
    {
      "cell_type": "markdown",
      "metadata": {
        "id": "-IqWOJoTTPTO"
      },
      "source": [
        "É mostrado que existem 105 observações e 2 colunas."
      ]
    },
    {
      "cell_type": "code",
      "metadata": {
        "colab": {
          "base_uri": "https://localhost:8080/"
        },
        "id": "C87Q1BF_Sv6w",
        "outputId": "8504e2c1-8053-497b-e479-1f151c2b7064"
      },
      "source": [
        "dataset.shape"
      ],
      "execution_count": 5,
      "outputs": [
        {
          "output_type": "execute_result",
          "data": {
            "text/plain": [
              "(105, 2)"
            ]
          },
          "metadata": {
            "tags": []
          },
          "execution_count": 5
        }
      ]
    },
    {
      "cell_type": "markdown",
      "metadata": {
        "id": "xcwdBAWXTgq7"
      },
      "source": [
        "Amostra da base de dados."
      ]
    },
    {
      "cell_type": "code",
      "metadata": {
        "colab": {
          "base_uri": "https://localhost:8080/",
          "height": 359
        },
        "id": "62buIEPYTUEE",
        "outputId": "35631cfa-e0e8-40fd-9836-bcd0f4632c5c"
      },
      "source": [
        "dataset.head(10)"
      ],
      "execution_count": 6,
      "outputs": [
        {
          "output_type": "execute_result",
          "data": {
            "text/html": [
              "<div>\n",
              "<style scoped>\n",
              "    .dataframe tbody tr th:only-of-type {\n",
              "        vertical-align: middle;\n",
              "    }\n",
              "\n",
              "    .dataframe tbody tr th {\n",
              "        vertical-align: top;\n",
              "    }\n",
              "\n",
              "    .dataframe thead th {\n",
              "        text-align: right;\n",
              "    }\n",
              "</style>\n",
              "<table border=\"1\" class=\"dataframe\">\n",
              "  <thead>\n",
              "    <tr style=\"text-align: right;\">\n",
              "      <th></th>\n",
              "      <th>Month</th>\n",
              "      <th>Sales</th>\n",
              "    </tr>\n",
              "  </thead>\n",
              "  <tbody>\n",
              "    <tr>\n",
              "      <th>0</th>\n",
              "      <td>1964-01</td>\n",
              "      <td>2815</td>\n",
              "    </tr>\n",
              "    <tr>\n",
              "      <th>1</th>\n",
              "      <td>1964-02</td>\n",
              "      <td>2672</td>\n",
              "    </tr>\n",
              "    <tr>\n",
              "      <th>2</th>\n",
              "      <td>1964-03</td>\n",
              "      <td>2755</td>\n",
              "    </tr>\n",
              "    <tr>\n",
              "      <th>3</th>\n",
              "      <td>1964-04</td>\n",
              "      <td>2721</td>\n",
              "    </tr>\n",
              "    <tr>\n",
              "      <th>4</th>\n",
              "      <td>1964-05</td>\n",
              "      <td>2946</td>\n",
              "    </tr>\n",
              "    <tr>\n",
              "      <th>5</th>\n",
              "      <td>1964-06</td>\n",
              "      <td>3036</td>\n",
              "    </tr>\n",
              "    <tr>\n",
              "      <th>6</th>\n",
              "      <td>1964-07</td>\n",
              "      <td>2282</td>\n",
              "    </tr>\n",
              "    <tr>\n",
              "      <th>7</th>\n",
              "      <td>1964-08</td>\n",
              "      <td>2212</td>\n",
              "    </tr>\n",
              "    <tr>\n",
              "      <th>8</th>\n",
              "      <td>1964-09</td>\n",
              "      <td>2922</td>\n",
              "    </tr>\n",
              "    <tr>\n",
              "      <th>9</th>\n",
              "      <td>1964-10</td>\n",
              "      <td>4301</td>\n",
              "    </tr>\n",
              "  </tbody>\n",
              "</table>\n",
              "</div>"
            ],
            "text/plain": [
              "     Month  Sales\n",
              "0  1964-01   2815\n",
              "1  1964-02   2672\n",
              "2  1964-03   2755\n",
              "3  1964-04   2721\n",
              "4  1964-05   2946\n",
              "5  1964-06   3036\n",
              "6  1964-07   2282\n",
              "7  1964-08   2212\n",
              "8  1964-09   2922\n",
              "9  1964-10   4301"
            ]
          },
          "metadata": {
            "tags": []
          },
          "execution_count": 6
        }
      ]
    },
    {
      "cell_type": "markdown",
      "metadata": {
        "id": "k8Tri_mLUELN"
      },
      "source": [
        "Verificando quantidade de informações nulas"
      ]
    },
    {
      "cell_type": "code",
      "metadata": {
        "colab": {
          "base_uri": "https://localhost:8080/"
        },
        "id": "voofFbJQUAEk",
        "outputId": "ccbf1edf-cc89-4802-9e4f-d48db4baca83"
      },
      "source": [
        "dataset.isnull().sum()"
      ],
      "execution_count": 10,
      "outputs": [
        {
          "output_type": "execute_result",
          "data": {
            "text/plain": [
              "Month    0\n",
              "Sales    0\n",
              "dtype: int64"
            ]
          },
          "metadata": {
            "tags": []
          },
          "execution_count": 10
        }
      ]
    },
    {
      "cell_type": "markdown",
      "metadata": {
        "id": "VugWzQ0KUc0S"
      },
      "source": [
        "Verifica que não há dados duplicados"
      ]
    },
    {
      "cell_type": "code",
      "metadata": {
        "colab": {
          "base_uri": "https://localhost:8080/"
        },
        "id": "5NMvdtQdUTft",
        "outputId": "17cae99c-2080-4c81-9c4c-94b06f765540"
      },
      "source": [
        "len(dataset.duplicated())"
      ],
      "execution_count": 13,
      "outputs": [
        {
          "output_type": "execute_result",
          "data": {
            "text/plain": [
              "105"
            ]
          },
          "metadata": {
            "tags": []
          },
          "execution_count": 13
        }
      ]
    },
    {
      "cell_type": "markdown",
      "metadata": {
        "id": "7aDyjVQnUISY"
      },
      "source": [
        "Visão geral das séries numéricas"
      ]
    },
    {
      "cell_type": "code",
      "metadata": {
        "colab": {
          "base_uri": "https://localhost:8080/",
          "height": 297
        },
        "id": "YyFlWD31UkJm",
        "outputId": "34ac4da6-e6e0-40eb-ab6c-6770a8729160"
      },
      "source": [
        "dataset.describe()"
      ],
      "execution_count": 15,
      "outputs": [
        {
          "output_type": "execute_result",
          "data": {
            "text/html": [
              "<div>\n",
              "<style scoped>\n",
              "    .dataframe tbody tr th:only-of-type {\n",
              "        vertical-align: middle;\n",
              "    }\n",
              "\n",
              "    .dataframe tbody tr th {\n",
              "        vertical-align: top;\n",
              "    }\n",
              "\n",
              "    .dataframe thead th {\n",
              "        text-align: right;\n",
              "    }\n",
              "</style>\n",
              "<table border=\"1\" class=\"dataframe\">\n",
              "  <thead>\n",
              "    <tr style=\"text-align: right;\">\n",
              "      <th></th>\n",
              "      <th>Sales</th>\n",
              "    </tr>\n",
              "  </thead>\n",
              "  <tbody>\n",
              "    <tr>\n",
              "      <th>count</th>\n",
              "      <td>105.000000</td>\n",
              "    </tr>\n",
              "    <tr>\n",
              "      <th>mean</th>\n",
              "      <td>4761.152381</td>\n",
              "    </tr>\n",
              "    <tr>\n",
              "      <th>std</th>\n",
              "      <td>2553.502601</td>\n",
              "    </tr>\n",
              "    <tr>\n",
              "      <th>min</th>\n",
              "      <td>1413.000000</td>\n",
              "    </tr>\n",
              "    <tr>\n",
              "      <th>25%</th>\n",
              "      <td>3113.000000</td>\n",
              "    </tr>\n",
              "    <tr>\n",
              "      <th>50%</th>\n",
              "      <td>4217.000000</td>\n",
              "    </tr>\n",
              "    <tr>\n",
              "      <th>75%</th>\n",
              "      <td>5221.000000</td>\n",
              "    </tr>\n",
              "    <tr>\n",
              "      <th>max</th>\n",
              "      <td>13916.000000</td>\n",
              "    </tr>\n",
              "  </tbody>\n",
              "</table>\n",
              "</div>"
            ],
            "text/plain": [
              "              Sales\n",
              "count    105.000000\n",
              "mean    4761.152381\n",
              "std     2553.502601\n",
              "min     1413.000000\n",
              "25%     3113.000000\n",
              "50%     4217.000000\n",
              "75%     5221.000000\n",
              "max    13916.000000"
            ]
          },
          "metadata": {
            "tags": []
          },
          "execution_count": 15
        }
      ]
    },
    {
      "cell_type": "markdown",
      "metadata": {
        "id": "Z2-uAmrdVNMF"
      },
      "source": [
        "Distribuição dos dados"
      ]
    },
    {
      "cell_type": "code",
      "metadata": {
        "colab": {
          "base_uri": "https://localhost:8080/",
          "height": 528
        },
        "id": "Dgi0o1qXUxdr",
        "outputId": "5fee78ab-f1d5-41cd-84bd-5b732a7b36ab"
      },
      "source": [
        "\n",
        "plt.figure(figsize=(20,10))\n",
        "dataset[\"Sales\"].plot()\n",
        "plt.xlabel('Períodos',size=15)\n",
        "plt.title('Série de vendas de champagne ',size=15)\n"
      ],
      "execution_count": 21,
      "outputs": [
        {
          "output_type": "execute_result",
          "data": {
            "text/plain": [
              "Text(0.5, 1.0, 'Série de vendas de champagne ')"
            ]
          },
          "metadata": {
            "tags": []
          },
          "execution_count": 21
        },
        {
          "output_type": "display_data",
          "data": {
            "image/png": "[encoded data removed]",
            "text/plain": [
              "<Figure size 1440x720 with 1 Axes>"
            ]
          },
          "metadata": {
            "tags": []
          }
        }
      ]
    },
    {
      "cell_type": "markdown",
      "metadata": {
        "id": "rEIHxO2pTmxz"
      },
      "source": [
        "### **Transformando os dados de data em formato datetime**"
      ]
    },
    {
      "cell_type": "code",
      "metadata": {
        "colab": {
          "base_uri": "https://localhost:8080/",
          "height": 359
        },
        "id": "JMLnGXBbT0bU",
        "outputId": "5824f90e-72a3-44a2-837f-8fb1e7729284"
      },
      "source": [
        "dataset['Month']=pd.to_datetime(dataset['Month'])\n",
        "dataset.head(10)"
      ],
      "execution_count": 7,
      "outputs": [
        {
          "output_type": "execute_result",
          "data": {
            "text/html": [
              "<div>\n",
              "<style scoped>\n",
              "    .dataframe tbody tr th:only-of-type {\n",
              "        vertical-align: middle;\n",
              "    }\n",
              "\n",
              "    .dataframe tbody tr th {\n",
              "        vertical-align: top;\n",
              "    }\n",
              "\n",
              "    .dataframe thead th {\n",
              "        text-align: right;\n",
              "    }\n",
              "</style>\n",
              "<table border=\"1\" class=\"dataframe\">\n",
              "  <thead>\n",
              "    <tr style=\"text-align: right;\">\n",
              "      <th></th>\n",
              "      <th>Month</th>\n",
              "      <th>Sales</th>\n",
              "    </tr>\n",
              "  </thead>\n",
              "  <tbody>\n",
              "    <tr>\n",
              "      <th>0</th>\n",
              "      <td>1964-01-01</td>\n",
              "      <td>2815</td>\n",
              "    </tr>\n",
              "    <tr>\n",
              "      <th>1</th>\n",
              "      <td>1964-02-01</td>\n",
              "      <td>2672</td>\n",
              "    </tr>\n",
              "    <tr>\n",
              "      <th>2</th>\n",
              "      <td>1964-03-01</td>\n",
              "      <td>2755</td>\n",
              "    </tr>\n",
              "    <tr>\n",
              "      <th>3</th>\n",
              "      <td>1964-04-01</td>\n",
              "      <td>2721</td>\n",
              "    </tr>\n",
              "    <tr>\n",
              "      <th>4</th>\n",
              "      <td>1964-05-01</td>\n",
              "      <td>2946</td>\n",
              "    </tr>\n",
              "    <tr>\n",
              "      <th>5</th>\n",
              "      <td>1964-06-01</td>\n",
              "      <td>3036</td>\n",
              "    </tr>\n",
              "    <tr>\n",
              "      <th>6</th>\n",
              "      <td>1964-07-01</td>\n",
              "      <td>2282</td>\n",
              "    </tr>\n",
              "    <tr>\n",
              "      <th>7</th>\n",
              "      <td>1964-08-01</td>\n",
              "      <td>2212</td>\n",
              "    </tr>\n",
              "    <tr>\n",
              "      <th>8</th>\n",
              "      <td>1964-09-01</td>\n",
              "      <td>2922</td>\n",
              "    </tr>\n",
              "    <tr>\n",
              "      <th>9</th>\n",
              "      <td>1964-10-01</td>\n",
              "      <td>4301</td>\n",
              "    </tr>\n",
              "  </tbody>\n",
              "</table>\n",
              "</div>"
            ],
            "text/plain": [
              "       Month  Sales\n",
              "0 1964-01-01   2815\n",
              "1 1964-02-01   2672\n",
              "2 1964-03-01   2755\n",
              "3 1964-04-01   2721\n",
              "4 1964-05-01   2946\n",
              "5 1964-06-01   3036\n",
              "6 1964-07-01   2282\n",
              "7 1964-08-01   2212\n",
              "8 1964-09-01   2922\n",
              "9 1964-10-01   4301"
            ]
          },
          "metadata": {
            "tags": []
          },
          "execution_count": 7
        }
      ]
    },
    {
      "cell_type": "markdown",
      "metadata": {
        "id": "z2qx4xPzXlBd"
      },
      "source": [
        "## **Prophet**"
      ]
    },
    {
      "cell_type": "markdown",
      "metadata": {
        "id": "yfNcMrSNV50_"
      },
      "source": [
        "### **Separando os dados para treino e teste**"
      ]
    },
    {
      "cell_type": "code",
      "metadata": {
        "id": "1D2Hvu0yWGSD"
      },
      "source": [
        "# pega a quantidade de linhas e subtrai pela quantidade de teste\n",
        "split_point = len(dataset) - 30"
      ],
      "execution_count": 22,
      "outputs": []
    },
    {
      "cell_type": "code",
      "metadata": {
        "id": "8_i5iQFEWG9L"
      },
      "source": [
        "# define que a variável treino vai conter linhas até o split_point\n",
        "treino = dataset[0:split_point]"
      ],
      "execution_count": 23,
      "outputs": []
    },
    {
      "cell_type": "code",
      "metadata": {
        "id": "gPY6wivSWKuQ"
      },
      "source": [
        "# define que a variável validation terá os dados do split_point em diante\n",
        "validation = dataset[split_point:]"
      ],
      "execution_count": 40,
      "outputs": []
    },
    {
      "cell_type": "code",
      "metadata": {
        "colab": {
          "base_uri": "https://localhost:8080/"
        },
        "id": "bKzbCyuQWM_s",
        "outputId": "3728ab4a-36c3-4474-a2fa-e1622f94667a"
      },
      "source": [
        "# imprime o tamanho dos conjuntos\n",
        "print('Treino %d, Validation %d' % (len(treino), len(validation)))"
      ],
      "execution_count": 26,
      "outputs": [
        {
          "output_type": "stream",
          "text": [
            "Treino 75, Validation 30\n"
          ],
          "name": "stdout"
        }
      ]
    },
    {
      "cell_type": "markdown",
      "metadata": {
        "id": "4zdJRk42W92O"
      },
      "source": [
        "### **Renomeando colunas**"
      ]
    },
    {
      "cell_type": "markdown",
      "metadata": {
        "id": "-G3oTIr8fjuC"
      },
      "source": [
        "Por padrão, o *Prophet* trabalha com uma coluna *ds* e outra *y*. A coluna ds faz referência aos dados temporais e a coluna y faz referência aos dados quantitativos. "
      ]
    },
    {
      "cell_type": "code",
      "metadata": {
        "colab": {
          "base_uri": "https://localhost:8080/",
          "height": 204
        },
        "id": "QjDkiaN3W_gt",
        "outputId": "a9aa1269-0bfb-409b-c049-94f755d78c91"
      },
      "source": [
        "# ds: features temporais\n",
        "# y: valores a serem preditos\n",
        "\n",
        "dataset.columns=['ds','y']\n",
        "dataset.tail()"
      ],
      "execution_count": 41,
      "outputs": [
        {
          "output_type": "execute_result",
          "data": {
            "text/html": [
              "<div>\n",
              "<style scoped>\n",
              "    .dataframe tbody tr th:only-of-type {\n",
              "        vertical-align: middle;\n",
              "    }\n",
              "\n",
              "    .dataframe tbody tr th {\n",
              "        vertical-align: top;\n",
              "    }\n",
              "\n",
              "    .dataframe thead th {\n",
              "        text-align: right;\n",
              "    }\n",
              "</style>\n",
              "<table border=\"1\" class=\"dataframe\">\n",
              "  <thead>\n",
              "    <tr style=\"text-align: right;\">\n",
              "      <th></th>\n",
              "      <th>ds</th>\n",
              "      <th>y</th>\n",
              "    </tr>\n",
              "  </thead>\n",
              "  <tbody>\n",
              "    <tr>\n",
              "      <th>100</th>\n",
              "      <td>1972-05-01</td>\n",
              "      <td>4618</td>\n",
              "    </tr>\n",
              "    <tr>\n",
              "      <th>101</th>\n",
              "      <td>1972-06-01</td>\n",
              "      <td>5312</td>\n",
              "    </tr>\n",
              "    <tr>\n",
              "      <th>102</th>\n",
              "      <td>1972-07-01</td>\n",
              "      <td>4298</td>\n",
              "    </tr>\n",
              "    <tr>\n",
              "      <th>103</th>\n",
              "      <td>1972-08-01</td>\n",
              "      <td>1413</td>\n",
              "    </tr>\n",
              "    <tr>\n",
              "      <th>104</th>\n",
              "      <td>1972-09-01</td>\n",
              "      <td>5877</td>\n",
              "    </tr>\n",
              "  </tbody>\n",
              "</table>\n",
              "</div>"
            ],
            "text/plain": [
              "            ds     y\n",
              "100 1972-05-01  4618\n",
              "101 1972-06-01  5312\n",
              "102 1972-07-01  4298\n",
              "103 1972-08-01  1413\n",
              "104 1972-09-01  5877"
            ]
          },
          "metadata": {
            "tags": []
          },
          "execution_count": 41
        }
      ]
    },
    {
      "cell_type": "markdown",
      "metadata": {
        "id": "rtFgmu3dXjKo"
      },
      "source": [
        "### **Modelagem com Prophet**"
      ]
    },
    {
      "cell_type": "code",
      "metadata": {
        "id": "GXnJTwpZXxO-"
      },
      "source": [
        "# instancia o objeto prophet\n",
        "model = Prophet()"
      ],
      "execution_count": 31,
      "outputs": []
    },
    {
      "cell_type": "code",
      "metadata": {
        "colab": {
          "base_uri": "https://localhost:8080/"
        },
        "id": "tNroTfraX6cF",
        "outputId": "676eed41-810a-43ae-edb6-4944996d40ec"
      },
      "source": [
        "# gerando o modelo\n",
        "model.fit(dataset)"
      ],
      "execution_count": 32,
      "outputs": [
        {
          "output_type": "stream",
          "text": [
            "INFO:fbprophet:Disabling weekly seasonality. Run prophet with weekly_seasonality=True to override this.\n",
            "INFO:fbprophet:Disabling daily seasonality. Run prophet with daily_seasonality=True to override this.\n"
          ],
          "name": "stderr"
        },
        {
          "output_type": "execute_result",
          "data": {
            "text/plain": [
              "<fbprophet.forecaster.Prophet at 0x7feb4b77bbd0>"
            ]
          },
          "metadata": {
            "tags": []
          },
          "execution_count": 32
        }
      ]
    },
    {
      "cell_type": "markdown",
      "metadata": {
        "id": "yyzZycuPfFVe"
      },
      "source": [
        "### **Trabalhando com dados futuros**"
      ]
    },
    {
      "cell_type": "code",
      "metadata": {
        "colab": {
          "base_uri": "https://localhost:8080/",
          "height": 419
        },
        "id": "2D4CAbsgX8_-",
        "outputId": "0c3bfffc-e9de-4415-fec3-35cd9513aa5e"
      },
      "source": [
        "# gerando dados futuros\n",
        "futuro = model.make_future_dataframe(periods = 35, freq='MS')\n",
        "futuro"
      ],
      "execution_count": 35,
      "outputs": [
        {
          "output_type": "execute_result",
          "data": {
            "text/html": [
              "<div>\n",
              "<style scoped>\n",
              "    .dataframe tbody tr th:only-of-type {\n",
              "        vertical-align: middle;\n",
              "    }\n",
              "\n",
              "    .dataframe tbody tr th {\n",
              "        vertical-align: top;\n",
              "    }\n",
              "\n",
              "    .dataframe thead th {\n",
              "        text-align: right;\n",
              "    }\n",
              "</style>\n",
              "<table border=\"1\" class=\"dataframe\">\n",
              "  <thead>\n",
              "    <tr style=\"text-align: right;\">\n",
              "      <th></th>\n",
              "      <th>ds</th>\n",
              "    </tr>\n",
              "  </thead>\n",
              "  <tbody>\n",
              "    <tr>\n",
              "      <th>0</th>\n",
              "      <td>1964-01-01</td>\n",
              "    </tr>\n",
              "    <tr>\n",
              "      <th>1</th>\n",
              "      <td>1964-02-01</td>\n",
              "    </tr>\n",
              "    <tr>\n",
              "      <th>2</th>\n",
              "      <td>1964-03-01</td>\n",
              "    </tr>\n",
              "    <tr>\n",
              "      <th>3</th>\n",
              "      <td>1964-04-01</td>\n",
              "    </tr>\n",
              "    <tr>\n",
              "      <th>4</th>\n",
              "      <td>1964-05-01</td>\n",
              "    </tr>\n",
              "    <tr>\n",
              "      <th>...</th>\n",
              "      <td>...</td>\n",
              "    </tr>\n",
              "    <tr>\n",
              "      <th>135</th>\n",
              "      <td>1975-04-01</td>\n",
              "    </tr>\n",
              "    <tr>\n",
              "      <th>136</th>\n",
              "      <td>1975-05-01</td>\n",
              "    </tr>\n",
              "    <tr>\n",
              "      <th>137</th>\n",
              "      <td>1975-06-01</td>\n",
              "    </tr>\n",
              "    <tr>\n",
              "      <th>138</th>\n",
              "      <td>1975-07-01</td>\n",
              "    </tr>\n",
              "    <tr>\n",
              "      <th>139</th>\n",
              "      <td>1975-08-01</td>\n",
              "    </tr>\n",
              "  </tbody>\n",
              "</table>\n",
              "<p>140 rows × 1 columns</p>\n",
              "</div>"
            ],
            "text/plain": [
              "            ds\n",
              "0   1964-01-01\n",
              "1   1964-02-01\n",
              "2   1964-03-01\n",
              "3   1964-04-01\n",
              "4   1964-05-01\n",
              "..         ...\n",
              "135 1975-04-01\n",
              "136 1975-05-01\n",
              "137 1975-06-01\n",
              "138 1975-07-01\n",
              "139 1975-08-01\n",
              "\n",
              "[140 rows x 1 columns]"
            ]
          },
          "metadata": {
            "tags": []
          },
          "execution_count": 35
        }
      ]
    },
    {
      "cell_type": "code",
      "metadata": {
        "colab": {
          "base_uri": "https://localhost:8080/",
          "height": 266
        },
        "id": "tDmhPEFfYKZk",
        "outputId": "d40bf764-b9e0-418b-ad61-c35eccc0eff1"
      },
      "source": [
        "# prevendo valores para dados futuros\n",
        "saida = model.predict(futuro)\n",
        "saida[['ds', 'yhat', 'yhat_lower', 'yhat_upper']].tail(7)"
      ],
      "execution_count": 36,
      "outputs": [
        {
          "output_type": "execute_result",
          "data": {
            "text/html": [
              "<div>\n",
              "<style scoped>\n",
              "    .dataframe tbody tr th:only-of-type {\n",
              "        vertical-align: middle;\n",
              "    }\n",
              "\n",
              "    .dataframe tbody tr th {\n",
              "        vertical-align: top;\n",
              "    }\n",
              "\n",
              "    .dataframe thead th {\n",
              "        text-align: right;\n",
              "    }\n",
              "</style>\n",
              "<table border=\"1\" class=\"dataframe\">\n",
              "  <thead>\n",
              "    <tr style=\"text-align: right;\">\n",
              "      <th></th>\n",
              "      <th>ds</th>\n",
              "      <th>yhat</th>\n",
              "      <th>yhat_lower</th>\n",
              "      <th>yhat_upper</th>\n",
              "    </tr>\n",
              "  </thead>\n",
              "  <tbody>\n",
              "    <tr>\n",
              "      <th>133</th>\n",
              "      <td>1975-02-01</td>\n",
              "      <td>4616.338200</td>\n",
              "      <td>3659.706546</td>\n",
              "      <td>5547.169075</td>\n",
              "    </tr>\n",
              "    <tr>\n",
              "      <th>134</th>\n",
              "      <td>1975-03-01</td>\n",
              "      <td>4964.983938</td>\n",
              "      <td>3995.854607</td>\n",
              "      <td>5858.093063</td>\n",
              "    </tr>\n",
              "    <tr>\n",
              "      <th>135</th>\n",
              "      <td>1975-04-01</td>\n",
              "      <td>5422.889201</td>\n",
              "      <td>4477.272107</td>\n",
              "      <td>6384.411499</td>\n",
              "    </tr>\n",
              "    <tr>\n",
              "      <th>136</th>\n",
              "      <td>1975-05-01</td>\n",
              "      <td>5560.963302</td>\n",
              "      <td>4645.328066</td>\n",
              "      <td>6527.450307</td>\n",
              "    </tr>\n",
              "    <tr>\n",
              "      <th>137</th>\n",
              "      <td>1975-06-01</td>\n",
              "      <td>5635.270456</td>\n",
              "      <td>4668.985508</td>\n",
              "      <td>6564.568952</td>\n",
              "    </tr>\n",
              "    <tr>\n",
              "      <th>138</th>\n",
              "      <td>1975-07-01</td>\n",
              "      <td>5241.813197</td>\n",
              "      <td>4319.407022</td>\n",
              "      <td>6197.913776</td>\n",
              "    </tr>\n",
              "    <tr>\n",
              "      <th>139</th>\n",
              "      <td>1975-08-01</td>\n",
              "      <td>2798.410657</td>\n",
              "      <td>1830.314703</td>\n",
              "      <td>3710.733425</td>\n",
              "    </tr>\n",
              "  </tbody>\n",
              "</table>\n",
              "</div>"
            ],
            "text/plain": [
              "            ds         yhat   yhat_lower   yhat_upper\n",
              "133 1975-02-01  4616.338200  3659.706546  5547.169075\n",
              "134 1975-03-01  4964.983938  3995.854607  5858.093063\n",
              "135 1975-04-01  5422.889201  4477.272107  6384.411499\n",
              "136 1975-05-01  5560.963302  4645.328066  6527.450307\n",
              "137 1975-06-01  5635.270456  4668.985508  6564.568952\n",
              "138 1975-07-01  5241.813197  4319.407022  6197.913776\n",
              "139 1975-08-01  2798.410657  1830.314703  3710.733425"
            ]
          },
          "metadata": {
            "tags": []
          },
          "execution_count": 36
        }
      ]
    },
    {
      "cell_type": "markdown",
      "metadata": {
        "id": "fRdYezHcfB6c"
      },
      "source": [
        "### **Validando Modelo**"
      ]
    },
    {
      "cell_type": "code",
      "metadata": {
        "colab": {
          "base_uri": "https://localhost:8080/"
        },
        "id": "Dz_kUfegYUIV",
        "outputId": "43bc7807-998e-42c1-a2a2-c1341212ac55"
      },
      "source": [
        "validacao=pd.DataFrame({'ds':validation['ds']})\n",
        "validacao['ds'].head()"
      ],
      "execution_count": 43,
      "outputs": [
        {
          "output_type": "execute_result",
          "data": {
            "text/plain": [
              "75   1970-04-01\n",
              "76   1970-05-01\n",
              "77   1970-06-01\n",
              "78   1970-07-01\n",
              "79   1970-08-01\n",
              "Name: ds, dtype: datetime64[ns]"
            ]
          },
          "metadata": {
            "tags": []
          },
          "execution_count": 43
        }
      ]
    },
    {
      "cell_type": "code",
      "metadata": {
        "colab": {
          "base_uri": "https://localhost:8080/",
          "height": 204
        },
        "id": "dZbUA51tYqR1",
        "outputId": "4a752fcd-a34c-4f5c-d79c-6e7acd0ae976"
      },
      "source": [
        "# aplicando o modelo do prophet\n",
        "saida = model.predict(validacao)\n",
        "# imprime as saidas\n",
        "saida[['ds', 'yhat', 'yhat_lower', 'yhat_upper']].head()"
      ],
      "execution_count": 46,
      "outputs": [
        {
          "output_type": "execute_result",
          "data": {
            "text/html": [
              "<div>\n",
              "<style scoped>\n",
              "    .dataframe tbody tr th:only-of-type {\n",
              "        vertical-align: middle;\n",
              "    }\n",
              "\n",
              "    .dataframe tbody tr th {\n",
              "        vertical-align: top;\n",
              "    }\n",
              "\n",
              "    .dataframe thead th {\n",
              "        text-align: right;\n",
              "    }\n",
              "</style>\n",
              "<table border=\"1\" class=\"dataframe\">\n",
              "  <thead>\n",
              "    <tr style=\"text-align: right;\">\n",
              "      <th></th>\n",
              "      <th>ds</th>\n",
              "      <th>yhat</th>\n",
              "      <th>yhat_lower</th>\n",
              "      <th>yhat_upper</th>\n",
              "    </tr>\n",
              "  </thead>\n",
              "  <tbody>\n",
              "    <tr>\n",
              "      <th>0</th>\n",
              "      <td>1970-04-01</td>\n",
              "      <td>4579.752338</td>\n",
              "      <td>3585.383821</td>\n",
              "      <td>5524.182252</td>\n",
              "    </tr>\n",
              "    <tr>\n",
              "      <th>1</th>\n",
              "      <td>1970-05-01</td>\n",
              "      <td>4745.920259</td>\n",
              "      <td>3882.506618</td>\n",
              "      <td>5706.743920</td>\n",
              "    </tr>\n",
              "    <tr>\n",
              "      <th>2</th>\n",
              "      <td>1970-06-01</td>\n",
              "      <td>4839.009965</td>\n",
              "      <td>3887.687512</td>\n",
              "      <td>5772.514880</td>\n",
              "    </tr>\n",
              "    <tr>\n",
              "      <th>3</th>\n",
              "      <td>1970-07-01</td>\n",
              "      <td>4310.677481</td>\n",
              "      <td>3421.339748</td>\n",
              "      <td>5257.923983</td>\n",
              "    </tr>\n",
              "    <tr>\n",
              "      <th>4</th>\n",
              "      <td>1970-08-01</td>\n",
              "      <td>2171.456391</td>\n",
              "      <td>1281.565954</td>\n",
              "      <td>3140.207131</td>\n",
              "    </tr>\n",
              "  </tbody>\n",
              "</table>\n",
              "</div>"
            ],
            "text/plain": [
              "          ds         yhat   yhat_lower   yhat_upper\n",
              "0 1970-04-01  4579.752338  3585.383821  5524.182252\n",
              "1 1970-05-01  4745.920259  3882.506618  5706.743920\n",
              "2 1970-06-01  4839.009965  3887.687512  5772.514880\n",
              "3 1970-07-01  4310.677481  3421.339748  5257.923983\n",
              "4 1970-08-01  2171.456391  1281.565954  3140.207131"
            ]
          },
          "metadata": {
            "tags": []
          },
          "execution_count": 46
        }
      ]
    },
    {
      "cell_type": "code",
      "metadata": {
        "colab": {
          "base_uri": "https://localhost:8080/",
          "height": 857
        },
        "id": "gSirDLSTY5-c",
        "outputId": "ff8ba42d-74bc-4fd6-bc5c-0a0f2e33c5af"
      },
      "source": [
        "model.plot(saida)"
      ],
      "execution_count": 50,
      "outputs": [
        {
          "output_type": "execute_result",
          "data": {
            "image/png": "[encoded data removed]",
            "text/plain": [
              "<Figure size 720x432 with 1 Axes>"
            ]
          },
          "metadata": {
            "tags": []
          },
          "execution_count": 50
        },
        {
          "output_type": "display_data",
          "data": {
            "image/png": "[encoded data removed]",
            "text/plain": [
              "<Figure size 720x432 with 1 Axes>"
            ]
          },
          "metadata": {
            "tags": []
          }
        }
      ]
    },
    {
      "cell_type": "markdown",
      "metadata": {
        "id": "Tm9chP5Be2Ib"
      },
      "source": [
        "\n",
        "### **Plotando componentes tendência e sazonalidade.**"
      ]
    },
    {
      "cell_type": "code",
      "metadata": {
        "colab": {
          "base_uri": "https://localhost:8080/",
          "height": 437
        },
        "id": "Lp5ucQ9UZQ-N",
        "outputId": "776f7b24-3a0c-4065-b2f3-caf0cb3265c5"
      },
      "source": [
        "model.plot_components(saida);"
      ],
      "execution_count": 51,
      "outputs": [
        {
          "output_type": "display_data",
          "data": {
            "image/png": "[encoded data removed]",
            "text/plain": [
              "<Figure size 648x432 with 2 Axes>"
            ]
          },
          "metadata": {
            "tags": []
          }
        }
      ]
    },
    {
      "cell_type": "markdown",
      "metadata": {
        "id": "kSU3zx0JdUIN"
      },
      "source": [
        "### **Avaliando os resultados**"
      ]
    },
    {
      "cell_type": "code",
      "metadata": {
        "colab": {
          "base_uri": "https://localhost:8080/"
        },
        "id": "X8dRUlO1dN7D",
        "outputId": "fc1cd51b-9eec-4a40-bde4-53d7f42385db"
      },
      "source": [
        "rmse = sqrt(mean_squared_error(validation.y, saida.yhat))\n",
        "print('Test RMSE: %.3f' % rmse)"
      ],
      "execution_count": 64,
      "outputs": [
        {
          "output_type": "stream",
          "text": [
            "Test RMSE: 657.396\n"
          ],
          "name": "stdout"
        }
      ]
    },
    {
      "cell_type": "code",
      "metadata": {
        "colab": {
          "base_uri": "https://localhost:8080/"
        },
        "id": "nDVsD1HLddLL",
        "outputId": "519f31bb-61a1-4675-fffb-8a135fd4e8b7"
      },
      "source": [
        "mae = mean_absolute_error(validation.y, saida.yhat)\n",
        "print('Test MAE: %.3f' % mae)\n"
      ],
      "execution_count": 81,
      "outputs": [
        {
          "output_type": "stream",
          "text": [
            "Test MAE: 476.999\n"
          ],
          "name": "stdout"
        }
      ]
    },
    {
      "cell_type": "markdown",
      "metadata": {
        "id": "hVV4GpqcdsBd"
      },
      "source": [
        "### **Customizando Modelo**"
      ]
    },
    {
      "cell_type": "code",
      "metadata": {
        "id": "WLXq9-7Hdt5r"
      },
      "source": [
        "model = Prophet(seasonality_mode='multiplicative')"
      ],
      "execution_count": 68,
      "outputs": []
    },
    {
      "cell_type": "code",
      "metadata": {
        "colab": {
          "base_uri": "https://localhost:8080/"
        },
        "id": "wdj3DQlEd5hb",
        "outputId": "73187f9f-e31f-4b1f-8f41-166a07eb1da7"
      },
      "source": [
        "model.fit(dataset)"
      ],
      "execution_count": 69,
      "outputs": [
        {
          "output_type": "stream",
          "text": [
            "INFO:fbprophet:Disabling weekly seasonality. Run prophet with weekly_seasonality=True to override this.\n",
            "INFO:fbprophet:Disabling daily seasonality. Run prophet with daily_seasonality=True to override this.\n"
          ],
          "name": "stderr"
        },
        {
          "output_type": "execute_result",
          "data": {
            "text/plain": [
              "<fbprophet.forecaster.Prophet at 0x7feb3f3fb4d0>"
            ]
          },
          "metadata": {
            "tags": []
          },
          "execution_count": 69
        }
      ]
    },
    {
      "cell_type": "code",
      "metadata": {
        "colab": {
          "base_uri": "https://localhost:8080/"
        },
        "id": "coe_GSQ-d927",
        "outputId": "9d68d9ee-3cd2-4fe8-e707-b7f1a77ee547"
      },
      "source": [
        "validacao2=pd.DataFrame({'ds':validation['ds']})\n",
        "validacao2['ds'].head()"
      ],
      "execution_count": 73,
      "outputs": [
        {
          "output_type": "execute_result",
          "data": {
            "text/plain": [
              "75   1970-04-01\n",
              "76   1970-05-01\n",
              "77   1970-06-01\n",
              "78   1970-07-01\n",
              "79   1970-08-01\n",
              "Name: ds, dtype: datetime64[ns]"
            ]
          },
          "metadata": {
            "tags": []
          },
          "execution_count": 73
        }
      ]
    },
    {
      "cell_type": "code",
      "metadata": {
        "id": "8wwjROold_-C"
      },
      "source": [
        "saida2 = model.predict(validacao2)"
      ],
      "execution_count": 74,
      "outputs": []
    },
    {
      "cell_type": "markdown",
      "metadata": {
        "id": "Bz_59Yn6ertX"
      },
      "source": [
        "### **Avaliando Resultados**"
      ]
    },
    {
      "cell_type": "code",
      "metadata": {
        "colab": {
          "base_uri": "https://localhost:8080/"
        },
        "id": "nZQEFFy8ePJ7",
        "outputId": "82543354-1046-4a2d-9434-6451658264cd"
      },
      "source": [
        "rmse_customizado = sqrt(mean_squared_error(validation.y, saida2.yhat))\n",
        "print('Test RMSE: %.3f' % rmse_customizado)"
      ],
      "execution_count": 79,
      "outputs": [
        {
          "output_type": "stream",
          "text": [
            "Test RMSE: 483.861\n"
          ],
          "name": "stdout"
        }
      ]
    },
    {
      "cell_type": "code",
      "metadata": {
        "colab": {
          "base_uri": "https://localhost:8080/"
        },
        "id": "dVteVpPzejEr",
        "outputId": "690a28a4-9bbe-48ff-98b4-81427920ccbe"
      },
      "source": [
        "mae_customizado = mean_absolute_error(validation.y, saida.yhat)\n",
        "print('Test MAE: %.3f' % mae_customizado)"
      ],
      "execution_count": 80,
      "outputs": [
        {
          "output_type": "stream",
          "text": [
            "Test MAE: 476.999\n"
          ],
          "name": "stdout"
        }
      ]
    }
  ]
}